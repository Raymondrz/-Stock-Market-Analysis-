{
 "cells": [
  {
   "cell_type": "markdown",
   "metadata": {},
   "source": [
    "## 1. Library"
   ]
  },
  {
   "cell_type": "code",
   "execution_count": 47,
   "metadata": {},
   "outputs": [],
   "source": [
    "import pandas as pd\n",
    "import pandas_datareader.data as web\n",
    "import matplotlib.pyplot as plt\n",
    "%matplotlib inline\n",
    "import datetime"
   ]
  },
  {
   "cell_type": "markdown",
   "metadata": {},
   "source": [
    "## 2. Data Extraction"
   ]
  },
  {
   "cell_type": "code",
   "execution_count": 6,
   "metadata": {},
   "outputs": [],
   "source": [
    "start=datetime.datetime(2015,1,1)\n",
    "end=datetime.datetime(2020,1,1)"
   ]
  },
  {
   "cell_type": "code",
   "execution_count": 7,
   "metadata": {},
   "outputs": [],
   "source": [
    "AAPL=web.DataReader(\"AAPL\",'yahoo',start,end)\n",
    "CISCO=web.DataReader(\"CSCO\",'yahoo',start,end)\n",
    "IBM=web.DataReader(\"IBM\",'yahoo',start,end)\n",
    "AMZN=web.DataReader(\"AMZN\",'yahoo',start,end)\n",
    "\n"
   ]
  },
  {
   "cell_type": "markdown",
   "metadata": {},
   "source": [
    "## 3. Normalize Prices"
   ]
  },
  {
   "cell_type": "markdown",
   "metadata": {},
   "source": [
    "#### Normalize return for all stocks in the list"
   ]
  },
  {
   "cell_type": "code",
   "execution_count": 12,
   "metadata": {},
   "outputs": [],
   "source": [
    "for stock_df in (AAPL,CISCO,IBM,AMZN):\n",
    "    stock_df['Normalized Return']=stock_df['Close']/stock_df.iloc[0]['Close']"
   ]
  },
  {
   "cell_type": "markdown",
   "metadata": {},
   "source": [
    "## 4.  Creating a Portfolio\n",
    "#### Portfolio Allocation\n",
    "Our initial position is $1000000.\n",
    "We will assume we would like to allocate our money as follows:\n",
    "* 30% in Apple\n",
    "* 20% in Google/Alphabet\n",
    "* 40% in Amazon\n",
    "* 10% in IBM\n",
    "\n"
   ]
  },
  {
   "cell_type": "code",
   "execution_count": 45,
   "metadata": {},
   "outputs": [],
   "source": [
    "for stock_df, allo in zip((AAPL,CISCO,IBM,AMZN),[.3,.2,.4,.1]):\n",
    "    stock_df['Allocation']=stock_df['Normalized Return']*allo\n",
    "for stock_df in (AAPL,CISCO,IBM,AMZN):\n",
    "    stock_df['Position Values']=stock_df['Allocation']*1000000 "
   ]
  },
  {
   "cell_type": "code",
   "execution_count": 42,
   "metadata": {},
   "outputs": [
    {
     "data": {
      "text/html": [
       "<div>\n",
       "<style scoped>\n",
       "    .dataframe tbody tr th:only-of-type {\n",
       "        vertical-align: middle;\n",
       "    }\n",
       "\n",
       "    .dataframe tbody tr th {\n",
       "        vertical-align: top;\n",
       "    }\n",
       "\n",
       "    .dataframe thead th {\n",
       "        text-align: right;\n",
       "    }\n",
       "</style>\n",
       "<table border=\"1\" class=\"dataframe\">\n",
       "  <thead>\n",
       "    <tr style=\"text-align: right;\">\n",
       "      <th></th>\n",
       "      <th>High</th>\n",
       "      <th>Low</th>\n",
       "      <th>Open</th>\n",
       "      <th>Close</th>\n",
       "      <th>Volume</th>\n",
       "      <th>Adj Close</th>\n",
       "      <th>Normed Return</th>\n",
       "      <th>Normalized Return</th>\n",
       "      <th>Allocation</th>\n",
       "      <th>Position Values</th>\n",
       "    </tr>\n",
       "    <tr>\n",
       "      <th>Date</th>\n",
       "      <th></th>\n",
       "      <th></th>\n",
       "      <th></th>\n",
       "      <th></th>\n",
       "      <th></th>\n",
       "      <th></th>\n",
       "      <th></th>\n",
       "      <th></th>\n",
       "      <th></th>\n",
       "      <th></th>\n",
       "    </tr>\n",
       "  </thead>\n",
       "  <tbody>\n",
       "    <tr>\n",
       "      <th>2014-12-31</th>\n",
       "      <td>113.129997</td>\n",
       "      <td>110.209999</td>\n",
       "      <td>112.820000</td>\n",
       "      <td>110.379997</td>\n",
       "      <td>41403400.0</td>\n",
       "      <td>100.905785</td>\n",
       "      <td>1.000000</td>\n",
       "      <td>1.000000</td>\n",
       "      <td>0.300000</td>\n",
       "      <td>300000.000000</td>\n",
       "    </tr>\n",
       "    <tr>\n",
       "      <th>2015-01-02</th>\n",
       "      <td>111.440002</td>\n",
       "      <td>107.349998</td>\n",
       "      <td>111.389999</td>\n",
       "      <td>109.330002</td>\n",
       "      <td>53204600.0</td>\n",
       "      <td>99.945885</td>\n",
       "      <td>0.990487</td>\n",
       "      <td>0.990487</td>\n",
       "      <td>0.297146</td>\n",
       "      <td>297146.234512</td>\n",
       "    </tr>\n",
       "    <tr>\n",
       "      <th>2015-01-05</th>\n",
       "      <td>108.650002</td>\n",
       "      <td>105.410004</td>\n",
       "      <td>108.290001</td>\n",
       "      <td>106.250000</td>\n",
       "      <td>64285500.0</td>\n",
       "      <td>97.130241</td>\n",
       "      <td>0.962584</td>\n",
       "      <td>0.962584</td>\n",
       "      <td>0.288775</td>\n",
       "      <td>288775.147610</td>\n",
       "    </tr>\n",
       "    <tr>\n",
       "      <th>2015-01-06</th>\n",
       "      <td>107.430000</td>\n",
       "      <td>104.629997</td>\n",
       "      <td>106.540001</td>\n",
       "      <td>106.260002</td>\n",
       "      <td>65797100.0</td>\n",
       "      <td>97.139420</td>\n",
       "      <td>0.962674</td>\n",
       "      <td>0.962674</td>\n",
       "      <td>0.288802</td>\n",
       "      <td>288802.332253</td>\n",
       "    </tr>\n",
       "    <tr>\n",
       "      <th>2015-01-07</th>\n",
       "      <td>108.199997</td>\n",
       "      <td>106.699997</td>\n",
       "      <td>107.199997</td>\n",
       "      <td>107.750000</td>\n",
       "      <td>40105900.0</td>\n",
       "      <td>98.501518</td>\n",
       "      <td>0.976173</td>\n",
       "      <td>0.976173</td>\n",
       "      <td>0.292852</td>\n",
       "      <td>292851.973223</td>\n",
       "    </tr>\n",
       "  </tbody>\n",
       "</table>\n",
       "</div>"
      ],
      "text/plain": [
       "                  High         Low        Open       Close      Volume  \\\n",
       "Date                                                                     \n",
       "2014-12-31  113.129997  110.209999  112.820000  110.379997  41403400.0   \n",
       "2015-01-02  111.440002  107.349998  111.389999  109.330002  53204600.0   \n",
       "2015-01-05  108.650002  105.410004  108.290001  106.250000  64285500.0   \n",
       "2015-01-06  107.430000  104.629997  106.540001  106.260002  65797100.0   \n",
       "2015-01-07  108.199997  106.699997  107.199997  107.750000  40105900.0   \n",
       "\n",
       "             Adj Close  Normed Return  Normalized Return  Allocation  \\\n",
       "Date                                                                   \n",
       "2014-12-31  100.905785       1.000000           1.000000    0.300000   \n",
       "2015-01-02   99.945885       0.990487           0.990487    0.297146   \n",
       "2015-01-05   97.130241       0.962584           0.962584    0.288775   \n",
       "2015-01-06   97.139420       0.962674           0.962674    0.288802   \n",
       "2015-01-07   98.501518       0.976173           0.976173    0.292852   \n",
       "\n",
       "            Position Values  \n",
       "Date                         \n",
       "2014-12-31    300000.000000  \n",
       "2015-01-02    297146.234512  \n",
       "2015-01-05    288775.147610  \n",
       "2015-01-06    288802.332253  \n",
       "2015-01-07    292851.973223  "
      ]
     },
     "execution_count": 42,
     "metadata": {},
     "output_type": "execute_result"
    }
   ],
   "source": [
    "AAPL.head()"
   ]
  },
  {
   "cell_type": "markdown",
   "metadata": {},
   "source": [
    "### Total Portfolio Value"
   ]
  },
  {
   "cell_type": "code",
   "execution_count": 43,
   "metadata": {},
   "outputs": [
    {
     "data": {
      "text/html": [
       "<div>\n",
       "<style scoped>\n",
       "    .dataframe tbody tr th:only-of-type {\n",
       "        vertical-align: middle;\n",
       "    }\n",
       "\n",
       "    .dataframe tbody tr th {\n",
       "        vertical-align: top;\n",
       "    }\n",
       "\n",
       "    .dataframe thead th {\n",
       "        text-align: right;\n",
       "    }\n",
       "</style>\n",
       "<table border=\"1\" class=\"dataframe\">\n",
       "  <thead>\n",
       "    <tr style=\"text-align: right;\">\n",
       "      <th></th>\n",
       "      <th>AAPL Positions</th>\n",
       "      <th>CISCO Positions</th>\n",
       "      <th>IBM Positions</th>\n",
       "      <th>AMZN Positions</th>\n",
       "    </tr>\n",
       "    <tr>\n",
       "      <th>Date</th>\n",
       "      <th></th>\n",
       "      <th></th>\n",
       "      <th></th>\n",
       "      <th></th>\n",
       "    </tr>\n",
       "  </thead>\n",
       "  <tbody>\n",
       "    <tr>\n",
       "      <th>2014-12-31</th>\n",
       "      <td>300000.000000</td>\n",
       "      <td>200000.000000</td>\n",
       "      <td>400000.000000</td>\n",
       "      <td>100000.000000</td>\n",
       "    </tr>\n",
       "    <tr>\n",
       "      <th>2015-01-02</th>\n",
       "      <td>297146.234512</td>\n",
       "      <td>198490.301317</td>\n",
       "      <td>404038.880809</td>\n",
       "      <td>99410.337666</td>\n",
       "    </tr>\n",
       "    <tr>\n",
       "      <th>2015-01-05</th>\n",
       "      <td>288775.147610</td>\n",
       "      <td>194536.303111</td>\n",
       "      <td>397681.356469</td>\n",
       "      <td>97370.709360</td>\n",
       "    </tr>\n",
       "    <tr>\n",
       "      <th>2015-01-06</th>\n",
       "      <td>288802.332253</td>\n",
       "      <td>194464.410739</td>\n",
       "      <td>389104.973696</td>\n",
       "      <td>95147.415092</td>\n",
       "    </tr>\n",
       "    <tr>\n",
       "      <th>2015-01-07</th>\n",
       "      <td>292851.973223</td>\n",
       "      <td>196261.678911</td>\n",
       "      <td>386561.956351</td>\n",
       "      <td>96155.955392</td>\n",
       "    </tr>\n",
       "  </tbody>\n",
       "</table>\n",
       "</div>"
      ],
      "text/plain": [
       "            AAPL Positions  CISCO Positions  IBM Positions  AMZN Positions\n",
       "Date                                                                      \n",
       "2014-12-31   300000.000000    200000.000000  400000.000000   100000.000000\n",
       "2015-01-02   297146.234512    198490.301317  404038.880809    99410.337666\n",
       "2015-01-05   288775.147610    194536.303111  397681.356469    97370.709360\n",
       "2015-01-06   288802.332253    194464.410739  389104.973696    95147.415092\n",
       "2015-01-07   292851.973223    196261.678911  386561.956351    96155.955392"
      ]
     },
     "execution_count": 43,
     "metadata": {},
     "output_type": "execute_result"
    }
   ],
   "source": [
    "all_pos_vals=[AAPL['Position Values'],CISCO['Position Values'],\n",
    "              IBM['Position Values'],AMZN['Position Values']]\n",
    "portfolio_val=pd.concat(all_pos_vals,axis=1)\n",
    "portfolio_val.columns=['AAPL Positions','CISCO Positions','IBM Positions','AMZN Positions']\n",
    "portfolio_val.head()"
   ]
  },
  {
   "cell_type": "code",
   "execution_count": 44,
   "metadata": {},
   "outputs": [
    {
     "data": {
      "text/html": [
       "<div>\n",
       "<style scoped>\n",
       "    .dataframe tbody tr th:only-of-type {\n",
       "        vertical-align: middle;\n",
       "    }\n",
       "\n",
       "    .dataframe tbody tr th {\n",
       "        vertical-align: top;\n",
       "    }\n",
       "\n",
       "    .dataframe thead th {\n",
       "        text-align: right;\n",
       "    }\n",
       "</style>\n",
       "<table border=\"1\" class=\"dataframe\">\n",
       "  <thead>\n",
       "    <tr style=\"text-align: right;\">\n",
       "      <th></th>\n",
       "      <th>AAPL Positions</th>\n",
       "      <th>CISCO Positions</th>\n",
       "      <th>IBM Positions</th>\n",
       "      <th>AMZN Positions</th>\n",
       "      <th>Total Pos</th>\n",
       "    </tr>\n",
       "    <tr>\n",
       "      <th>Date</th>\n",
       "      <th></th>\n",
       "      <th></th>\n",
       "      <th></th>\n",
       "      <th></th>\n",
       "      <th></th>\n",
       "    </tr>\n",
       "  </thead>\n",
       "  <tbody>\n",
       "    <tr>\n",
       "      <th>2014-12-31</th>\n",
       "      <td>300000.000000</td>\n",
       "      <td>200000.000000</td>\n",
       "      <td>400000.000000</td>\n",
       "      <td>100000.000000</td>\n",
       "      <td>1000000.000000</td>\n",
       "    </tr>\n",
       "    <tr>\n",
       "      <th>2015-01-02</th>\n",
       "      <td>297146.234512</td>\n",
       "      <td>198490.301317</td>\n",
       "      <td>404038.880809</td>\n",
       "      <td>99410.337666</td>\n",
       "      <td>999085.754304</td>\n",
       "    </tr>\n",
       "    <tr>\n",
       "      <th>2015-01-05</th>\n",
       "      <td>288775.147610</td>\n",
       "      <td>194536.303111</td>\n",
       "      <td>397681.356469</td>\n",
       "      <td>97370.709360</td>\n",
       "      <td>978363.516549</td>\n",
       "    </tr>\n",
       "    <tr>\n",
       "      <th>2015-01-06</th>\n",
       "      <td>288802.332253</td>\n",
       "      <td>194464.410739</td>\n",
       "      <td>389104.973696</td>\n",
       "      <td>95147.415092</td>\n",
       "      <td>967519.131779</td>\n",
       "    </tr>\n",
       "    <tr>\n",
       "      <th>2015-01-07</th>\n",
       "      <td>292851.973223</td>\n",
       "      <td>196261.678911</td>\n",
       "      <td>386561.956351</td>\n",
       "      <td>96155.955392</td>\n",
       "      <td>971831.563877</td>\n",
       "    </tr>\n",
       "  </tbody>\n",
       "</table>\n",
       "</div>"
      ],
      "text/plain": [
       "            AAPL Positions  CISCO Positions  IBM Positions  AMZN Positions  \\\n",
       "Date                                                                         \n",
       "2014-12-31   300000.000000    200000.000000  400000.000000   100000.000000   \n",
       "2015-01-02   297146.234512    198490.301317  404038.880809    99410.337666   \n",
       "2015-01-05   288775.147610    194536.303111  397681.356469    97370.709360   \n",
       "2015-01-06   288802.332253    194464.410739  389104.973696    95147.415092   \n",
       "2015-01-07   292851.973223    196261.678911  386561.956351    96155.955392   \n",
       "\n",
       "                 Total Pos  \n",
       "Date                        \n",
       "2014-12-31  1000000.000000  \n",
       "2015-01-02   999085.754304  \n",
       "2015-01-05   978363.516549  \n",
       "2015-01-06   967519.131779  \n",
       "2015-01-07   971831.563877  "
      ]
     },
     "execution_count": 44,
     "metadata": {},
     "output_type": "execute_result"
    }
   ],
   "source": [
    "portfolio_val['Total Pos']=portfolio_val.sum(axis=1)\n",
    "portfolio_val.head()"
   ]
  },
  {
   "cell_type": "code",
   "execution_count": 80,
   "metadata": {},
   "outputs": [
    {
     "data": {
      "text/plain": [
       "Text(0.5, 1.0, 'Each Portfolio Value')"
      ]
     },
     "execution_count": 80,
     "metadata": {},
     "output_type": "execute_result"
    },
    {
     "data": {
      "image/png": "[encoded data removed]",
      "text/plain": [
       "<Figure size 432x288 with 1 Axes>"
      ]
     },
     "metadata": {
      "needs_background": "light"
     },
     "output_type": "display_data"
    },
    {
     "data": {
      "image/png": "[encoded data removed]",
      "text/plain": [
       "<Figure size 432x288 with 1 Axes>"
      ]
     },
     "metadata": {
      "needs_background": "light"
     },
     "output_type": "display_data"
    }
   ],
   "source": [
    "portfolio_val['Total Pos'].plot()\n",
    "plt.title('Total Portfolio Value')\n",
    "portfolio_val.drop('Total Pos',axis=1).plot(kind='line')\n",
    "plt.title('Each Portfolio Value')"
   ]
  },
  {
   "cell_type": "markdown",
   "metadata": {},
   "source": [
    "## 5. Portfolio Statistics"
   ]
  },
  {
   "cell_type": "markdown",
   "metadata": {},
   "source": [
    "## Daily Returns"
   ]
  },
  {
   "cell_type": "code",
   "execution_count": 100,
   "metadata": {},
   "outputs": [],
   "source": [
    "portfolio_val['Daily Return'] = portfolio_val['Total Pos'].pct_change(1)"
   ]
  },
  {
   "cell_type": "markdown",
   "metadata": {},
   "source": [
    "## Cumulative Return"
   ]
  },
  {
   "cell_type": "code",
   "execution_count": 97,
   "metadata": {},
   "outputs": [
    {
     "name": "stdout",
     "output_type": "stream",
     "text": [
      "Our return 1072480.6092575414 !\n"
     ]
    }
   ],
   "source": [
    "cum_ret = 1000000 * (portfolio_val['Total Pos'][-1]/portfolio_val['Total Pos'][0] -1 )\n",
    "print('Our cumulative return {} !'.format(cum_ret))"
   ]
  },
  {
   "cell_type": "markdown",
   "metadata": {},
   "source": [
    "## Average Daily Return"
   ]
  },
  {
   "cell_type": "code",
   "execution_count": 101,
   "metadata": {},
   "outputs": [
    {
     "data": {
      "text/plain": [
       "0.0006497053666039799"
      ]
     },
     "execution_count": 101,
     "metadata": {},
     "output_type": "execute_result"
    }
   ],
   "source": [
    "portfolio_val['Daily Return'].mean()"
   ]
  },
  {
   "cell_type": "markdown",
   "metadata": {},
   "source": [
    "## Sharpe Ratio (Industry Standard for Performance Indicator)\n",
    "**Sharpe Ratio is a measure for calculating risk-adjusted return\n",
    "\n",
    "Sharpe ratio = (Mean portfolio return − Risk-free rate)/Standard deviation of portfolio return\n",
    "\n",
    "Annualized Sharpe Ratio = K-value * SR\n",
    "\n",
    "K-values for various sampling rates:\n",
    "* Daily = sqrt(252)\n",
    "* Weekly = sqrt(52)\n",
    "* Monthly = sqrt(12)"
   ]
  },
  {
   "cell_type": "code",
   "execution_count": 103,
   "metadata": {},
   "outputs": [
    {
     "name": "stdout",
     "output_type": "stream",
     "text": [
      "Our sharpe ratio is 0.05483664956578312 and Annualized sharpe ratio is 0.8705048248983613\n"
     ]
    }
   ],
   "source": [
    "SR = portfolio_val['Daily Return'].mean()/portfolio_val['Daily Return'].std()\n",
    "ASR = (252**0.5)*SR\n",
    "print('Our sharpe ratio is {x} and Annualized sharpe ratio is {y}'.format(x=SR,y=ASR))"
   ]
  },
  {
   "cell_type": "code",
   "execution_count": null,
   "metadata": {},
   "outputs": [],
   "source": []
  },
  {
   "cell_type": "code",
   "execution_count": null,
   "metadata": {},
   "outputs": [],
   "source": []
  },
  {
   "cell_type": "code",
   "execution_count": null,
   "metadata": {},
   "outputs": [],
   "source": []
  }
 ],
 "metadata": {
  "kernelspec": {
   "display_name": "Python 3",
   "language": "python",
   "name": "python3"
  },
  "language_info": {
   "codemirror_mode": {
    "name": "ipython",
    "version": 3
   },
   "file_extension": ".py",
   "mimetype": "text/x-python",
   "name": "python",
   "nbconvert_exporter": "python",
   "pygments_lexer": "ipython3",
   "version": "3.7.6"
  }
 },
 "nbformat": 4,
 "nbformat_minor": 4
}
